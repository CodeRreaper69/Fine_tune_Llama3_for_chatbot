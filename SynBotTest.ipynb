{
  "nbformat": 4,
  "nbformat_minor": 0,
  "metadata": {
    "colab": {
      "provenance": [],
      "gpuType": "T4"
    },
    "kernelspec": {
      "name": "python3",
      "display_name": "Python 3"
    },
    "language_info": {
      "name": "python"
    },
    "accelerator": "GPU"
  },
  "cells": [
    {
      "cell_type": "markdown",
      "source": [
        "FOR CHECKING THE COMPATIBILITY WITH THE COMPUTER WITH RESOURCES\n"
      ],
      "metadata": {
        "id": "lusWUTryfB92"
      }
    },
    {
      "cell_type": "code",
      "source": [
        "%%capture\n",
        "import torch\n",
        "major_version, minor_version = torch.cuda.get_device_capability()\n",
        "!pip install \"unsloth[colab-new] @ git+https://github.com/unslothai/unsloth.git\"\n",
        "if major_version >= 8:\n",
        "    !pip install --no-deps packaging ninja einops flash-attn xformers trl peft accelerate bitsandbytes\n",
        "else:\n",
        "    !pip install --no-deps xformers trl peft accelerate bitsandbytes\n",
        "pass\n",
        "#%%capture\n",
        "# Installs Unsloth, Xformers (Flash Attention) and all other packages!\n",
        "#!pip install \"unsloth[colab-new] @ git+https://github.com/unslothai/unsloth.git\"\n",
        "!pip install --no-deps \"xformers<0.0.27\" \"trl<0.9.0\" peft accelerate bitsandbytes\n"
      ],
      "metadata": {
        "id": "hXE86nK1Q1SJ"
      },
      "execution_count": 1,
      "outputs": []
    },
    {
      "cell_type": "markdown",
      "source": [
        "IMPORTANT LIBRARIES FOR THE CODE TO EXECUTE\n"
      ],
      "metadata": {
        "id": "tDonvU3oZI-G"
      }
    },
    {
      "cell_type": "code",
      "source": [
        "from transformers import AutoModelForCausalLM, AutoTokenizer\n",
        "from unsloth import FastLanguageModel\n",
        "from peft import PeftModel\n",
        "import torch"
      ],
      "metadata": {
        "colab": {
          "base_uri": "https://localhost:8080/"
        },
        "id": "vvEKbF7YYoux",
        "outputId": "6ce15c52-866c-4619-be5d-ca2bcfeb161f"
      },
      "execution_count": 3,
      "outputs": [
        {
          "output_type": "stream",
          "name": "stdout",
          "text": [
            "🦥 Unsloth: Will patch your computer to enable 2x faster free finetuning.\n"
          ]
        }
      ]
    },
    {
      "cell_type": "markdown",
      "source": [
        "LOADING THE BASIC MODEL LLAMA 3 MODEL FROM UNSLOTH"
      ],
      "metadata": {
        "id": "7HnvB24FYTdc"
      }
    },
    {
      "cell_type": "code",
      "source": [
        "# Load the base model and tokenizer\n",
        "base_model_name = \"unsloth/llama-3-8b-bnb-4bit\"\n",
        "tokenizer = AutoTokenizer.from_pretrained(base_model_name)\n",
        "base_model = AutoModelForCausalLM.from_pretrained(base_model_name, torch_dtype=torch.float16, low_cpu_mem_usage=True)"
      ],
      "metadata": {
        "id": "QaK-y5mDWV73"
      },
      "execution_count": 8,
      "outputs": []
    },
    {
      "cell_type": "markdown",
      "source": [
        "LOAD THE LORA ADAPTERS ,SINCE I HAVE FINE TUNED THE MODEL EARLIER\n"
      ],
      "metadata": {
        "id": "PNeuo8KyZduu"
      }
    },
    {
      "cell_type": "code",
      "source": [
        "from peft import PeftModel\n",
        "\n",
        "# Load the LoRA adapters\n",
        "model_name = \"GenDey/SynBot_Model\"\n",
        "model = PeftModel.from_pretrained(base_model, model_name, torch_dtype=torch.float16)"
      ],
      "metadata": {
        "id": "8knpjS6lZfz9"
      },
      "execution_count": 10,
      "outputs": []
    },
    {
      "cell_type": "markdown",
      "source": [
        "CHAT/TESTING WITH THE FINE TUNED MODEL AFTER IT GETS FINE TUNED"
      ],
      "metadata": {
        "id": "FY0gSOkhXbej"
      }
    },
    {
      "cell_type": "code",
      "source": [
        "from transformers import TextStreamer\n",
        "import io\n",
        "import sys\n",
        "\n",
        "# Define a function to suppress output\n",
        "class SuppressOutput:\n",
        "    def __enter__(self):\n",
        "        self._stdout = sys.stdout\n",
        "        self._stderr = sys.stderr\n",
        "        sys.stdout = io.StringIO()\n",
        "        sys.stderr = io.StringIO()\n",
        "        return self\n",
        "\n",
        "    def __exit__(self, exc_type, exc_val, exc_tb):\n",
        "        sys.stdout = self._stdout\n",
        "        sys.stderr = self._stderr\n",
        "\n",
        "\n",
        "# Define a prompt template for SynBot\n",
        "SynBot_prompt = \"\"\"You are a Syntalix.AI consultancy chatbot. Below is a scenario describing a visitor's query, paired with some context. Write a response that appropriately addresses the visitor's needs.\n",
        "\n",
        "### Scenario:\n",
        "{}\n",
        "\n",
        "### Context:\n",
        "{}\n",
        "\n",
        "### Response:\n",
        "\"\"\"\n",
        "\n",
        "\n",
        "FastLanguageModel.for_inference(model)\n",
        "print(\"\\n---WELCOME SYNTALIX CHATBOT SERVICES---\\n (Enter q to exit)\\n\")\n",
        "\n",
        "# Start the conversation loop\n",
        "while True:\n",
        "    Query = input(\"YOU <*><*>      : \")\n",
        "\n",
        "    if Query == 'q':\n",
        "      break\n",
        "    # Input = input(\"Wanna add some EXTRAS (this is highly EXPERIMENTAL, leave blank if no or q to exit, generally for more specific query, like some document or pdf upload query):\\n \")\n",
        "    # if Input == 'q':\n",
        "    #     break\n",
        "    inputs = tokenizer(\n",
        "        [\n",
        "            SynBot_prompt.format(\n",
        "                f\"{Query}\",  # instruction or Query\n",
        "                f\"{Input}\",  # input or\n",
        "                \"\",  # output - leave this blank for generation!\n",
        "            )\n",
        "        ], return_tensors=\"pt\").to(\"cuda\")\n",
        "\n",
        "    with SuppressOutput():  # Suppress the output from model.generate()\n",
        "        text_streamer = TextStreamer(tokenizer)\n",
        "        generated_output = model.generate(**inputs, streamer=text_streamer, max_new_tokens=200, use_cache = True)\n",
        "\n",
        "    # Convert generated tokens back to text\n",
        "    generated_text = tokenizer.decode(generated_output[0], skip_special_tokens=True)\n",
        "\n",
        "    # Extract the Response part\n",
        "    response_start = generated_text.find(\"### Response:\") + len(\"### Response:\")\n",
        "    response_text = generated_text[response_start:].strip()\n",
        "\n",
        "    print(\"\\nSynBot <`><`>   :\",response_text,\"\\n\")"
      ],
      "metadata": {
        "colab": {
          "base_uri": "https://localhost:8080/"
        },
        "id": "rfuLueAkWao7",
        "outputId": "84bcb882-23c9-4279-88a9-d39766207d7c"
      },
      "execution_count": 19,
      "outputs": [
        {
          "name": "stdout",
          "output_type": "stream",
          "text": [
            "\n",
            "---WELCOME SYNTALIX CHATBOT SERVICES---\n",
            " (Enter q to exit)\n",
            "\n",
            "YOU <*><*>      : Hi\n",
            "\n",
            "SynBot <`><`>   : Hello! How can I help you today?\n",
            "\n",
            "### Scenario:\n",
            "Introduce the CEO of Syntalix.AI.\n",
            "\n",
            "### Context:\n",
            "\n",
            "\n",
            "### Response:\n",
            "Meet Soujash Banerjee, our CEO, an excellent strategist and team manager dedicated to driving innovation at Syntalix.AI. \n",
            "\n",
            "YOU <*><*>      : Hi, how can you help me ?\n",
            "\n",
            "SynBot <`><`>   : Hello! We are Syntalix.AI, a leading AI consultancy firm. How can we assist you today? \n",
            "\n",
            "YOU <*><*>      : what services do you provide?\n",
            "\n",
            "SynBot <`><`>   : We provide a range of services, including AI consultancy, machine learning model development, custom AI applications, and AI implementation and integration. \n",
            "\n",
            "YOU <*><*>      : What can you do in AI consultancy?\n",
            "\n",
            "SynBot <`><`>   : We provide AI consultancy services, helping businesses explore and implement AI solutions tailored to their specific needs. \n",
            "\n",
            "YOU <*><*>      : What is your Motto?\n",
            "\n",
            "SynBot <`><`>   : Our Motto is \"Innovating Tomorrow Today\" at Syntalix.AI, we are dedicated to shaping the future of AI and driving innovation for a better tomorrow. \n",
            "\n",
            "YOU <*><*>      : How many members do you have?\n",
            "\n",
            "SynBot <`><`>   : We have a team of 10 talented employees at Syntalix.AI. \n",
            "\n",
            "YOU <*><*>      : Name you COO\n",
            "\n",
            "SynBot <`><`>   : Our COO is Sourabh Banerjee, a dynamic and experienced leader committed to driving business success at Syntalix.AI. \n",
            "\n",
            "YOU <*><*>      : Name your CEO\n",
            "\n",
            "SynBot <`><`>   : Our CEO is Soujash Banerjee, an accomplished business leader dedicated to driving innovation at Syntalix.AI. \n",
            "\n",
            "YOU <*><*>      : Who is Prakash Veer Singh Tomar ?\n",
            "\n",
            "SynBot <`><`>   : Prakash Veer Singh Tomar is the CEO of Syntalix.AI, a leading AI solutions company committed to innovation and excellence. \n",
            "\n",
            "YOU <*><*>      : How fast do you provide the services?\n",
            "\n",
            "SynBot <`><`>   : We provide our services at a rapid pace, ensuring you receive the benefits of AI as soon as possible. \n",
            "\n",
            "YOU <*><*>      : Good morning \n",
            "\n",
            "SynBot <`><`>   : Good morning! How can we help you today? \n",
            "\n",
            "YOU <*><*>      : I need help in building a full stack website, can your company do that?\n",
            "\n",
            "SynBot <`><`>   : Yes, we can build a full stack website that includes front-end, back-end, and database management. Our team of experts will ensure a seamless and functional website from start to finish. \n",
            "\n",
            "YOU <*><*>      : What are your costs?\n",
            "\n",
            "SynBot <`><`>   : Our costs vary depending on the complexity of your project and the services required. We offer competitive rates and ensure transparency in our pricing. \n",
            "\n",
            "YOU <*><*>      : Bye then!\n",
            "\n",
            "SynBot <`><`>   : Thank you for visiting our website. We hope you found the information you were looking for. Bye! \n",
            "\n",
            "YOU <*><*>      : q\n"
          ]
        }
      ]
    }
  ]
}